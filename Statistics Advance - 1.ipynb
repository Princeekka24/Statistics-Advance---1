{
 "cells": [
  {
   "cell_type": "markdown",
   "id": "e81f11ff",
   "metadata": {},
   "source": [
    "# Question 1: Define the z-statistic and explain its relationship to the standard normal distribution. How is the z-statistic used in hypothesis testing?"
   ]
  },
  {
   "cell_type": "markdown",
   "id": "c42fcb1d",
   "metadata": {},
   "source": [
    "## Answer: The z-statistic measures how many standard deviations an element is from the mean of a distribution. It is calculated as:\n",
    "\n",
    "𝑧\n",
    "=\n",
    "𝑋\n",
    "−\n",
    "𝜇\n",
    "𝜎\n",
    "z= \n",
    "σ\n",
    "X−μ\n",
    "​\n",
    " \n",
    "where \n",
    "𝑋\n",
    "X is the value, \n",
    "𝜇\n",
    "μ is the population mean, and \n",
    "𝜎\n",
    "σ is the population standard deviation.\n",
    "\n",
    "The z-statistic follows a standard normal distribution, with a mean of 0 and a standard deviation of 1. This relationship allows for the transformation of data from any normal distribution to the standard normal form, making it easier to calculate probabilities.\n",
    "\n",
    "In hypothesis testing, the z-statistic helps determine if a sample mean is significantly different from the population mean. If the z-value is extreme enough based on a chosen significance level, we can reject the null hypothesis."
   ]
  },
  {
   "cell_type": "markdown",
   "id": "80d43a6d",
   "metadata": {},
   "source": [
    "# Question 2: What is a p-value, and how is it used in hypothesis testing? What does it mean if the p-value is very small (e.g., 0.01)?"
   ]
  },
  {
   "cell_type": "markdown",
   "id": "6c736e9d",
   "metadata": {},
   "source": [
    "Answer: The p-value is the probability of obtaining a result at least as extreme as the observed data, assuming the null hypothesis is true. In hypothesis testing, the p-value indicates the strength of evidence against the null hypothesis.\n",
    "\n",
    "A small p-value (e.g., 0.01) suggests that the observed result is unlikely under the null hypothesis. If the p-value is less than a pre-determined significance level (e.g., 0.05), we reject the null hypothesis, concluding that the observed effect is statistically significant."
   ]
  },
  {
   "cell_type": "markdown",
   "id": "6cca5f9e",
   "metadata": {},
   "source": [
    "# Question 3: Compare and contrast the binomial and Bernoulli distributions."
   ]
  },
  {
   "cell_type": "markdown",
   "id": "35c60f1d",
   "metadata": {},
   "source": [
    "Answer:\n",
    "\n",
    "Bernoulli Distribution: A discrete distribution representing a single trial with two possible outcomes: \"success\" (probability \n",
    "𝑝\n",
    "p) or \"failure\" (probability \n",
    "1\n",
    "−\n",
    "𝑝\n",
    "1−p).\n",
    "Binomial Distribution: Represents the sum of outcomes from \n",
    "𝑛\n",
    "n independent Bernoulli trials, each with a probability \n",
    "𝑝\n",
    "p of success.\n",
    "The Bernoulli distribution is a special case of the binomial distribution where \n",
    "𝑛\n",
    "=\n",
    "1\n",
    "n=1."
   ]
  },
  {
   "cell_type": "markdown",
   "id": "33b11187",
   "metadata": {},
   "source": [
    "# Question 4: Under what conditions is the binomial distribution used, and how does it relate to the Bernoulli distribution?"
   ]
  },
  {
   "cell_type": "markdown",
   "id": "8a0b17d8",
   "metadata": {},
   "source": [
    "Answer: The binomial distribution is used when:\n",
    "\n",
    "There are a fixed number of trials (\n",
    "𝑛\n",
    "n).\n",
    "Each trial has only two outcomes (success/failure).\n",
    "Trials are independent.\n",
    "The probability of success (\n",
    "𝑝\n",
    "p) is constant across trials.\n",
    "The binomial distribution can be thought of as the sum of multiple independent Bernoulli trials, where each trial has the same success probability \n",
    "𝑝\n",
    "p."
   ]
  },
  {
   "cell_type": "markdown",
   "id": "17be65c7",
   "metadata": {},
   "source": [
    "# Question 5: What are the key properties of the Poisson distribution, and when is it appropriate to use this distribution?"
   ]
  },
  {
   "cell_type": "markdown",
   "id": "6fa4f090",
   "metadata": {},
   "source": [
    "Answer: The Poisson distribution describes the probability of a given number of events occurring in a fixed interval of time or space, assuming:\n",
    "\n",
    "Events occur independently.\n",
    "The average rate of occurrence (\n",
    "λ) is constant.\n",
    "Two events cannot happen simultaneously.\n",
    "The Poisson distribution is appropriate for modeling rare events over a continuous interval, such as the number of customer arrivals at a store per hour.\n",
    "\n"
   ]
  },
  {
   "cell_type": "markdown",
   "id": "398f9fb4",
   "metadata": {},
   "source": [
    "# Question 6: Define the terms \"probability distribution\" and \"probability density function\" (PDF). How does a PDF differ from a probability mass function (PMF)?"
   ]
  },
  {
   "cell_type": "markdown",
   "id": "cb3fd95a",
   "metadata": {},
   "source": [
    "Answer:\n",
    "\n",
    "Probability Distribution: Describes the likelihood of different outcomes in a random experiment.\n",
    "Probability Density Function (PDF): For continuous random variables, the PDF specifies the probability of the variable falling within a particular range.\n",
    "A PMF is used for discrete variables, providing the probability of each possible outcome, while a PDF is for continuous variables and gives the density of probabilities over an interval."
   ]
  },
  {
   "cell_type": "markdown",
   "id": "78763198",
   "metadata": {},
   "source": [
    "# Question 7: Explain the Central Limit Theorem (CLT) with an example"
   ]
  },
  {
   "cell_type": "markdown",
   "id": "ee807e88",
   "metadata": {},
   "source": [
    "Answer: The Central Limit Theorem (CLT) states that the sampling distribution of the sample mean will approximate a normal distribution as the sample size \n",
    "𝑛\n",
    "n increases, regardless of the population's distribution, provided \n",
    "𝑛\n",
    "n is sufficiently large.\n",
    "\n",
    "For example, if we repeatedly sample the heights of 30 students from a population, the distribution of the sample mean height will approximate normality, even if the population distribution of heights is not normal."
   ]
  },
  {
   "cell_type": "markdown",
   "id": "3fe53c8c",
   "metadata": {},
   "source": [
    "# Question 8: Compare z-scores and t-scores. When should you use a z-score, and when should a t-score be applied instead?"
   ]
  },
  {
   "cell_type": "markdown",
   "id": "ba21a1f8",
   "metadata": {},
   "source": [
    "Answer:\n",
    "\n",
    "Z-scores are used when the population standard deviation is known, and the sample size is large (typically \n",
    "𝑛\n",
    "≥\n",
    "30\n",
    "n≥30).\n",
    "T-scores are used when the population standard deviation is unknown and/or the sample size is small.\n",
    "A t-score distribution has heavier tails than the z-distribution, providing a more conservative estimate for smaller samples."
   ]
  },
  {
   "cell_type": "markdown",
   "id": "2f472e0c",
   "metadata": {},
   "source": [
    "# Question 9: Given a sample mean of 105, a population mean of 100, a standard deviation of 15, and a sample size of 25, calculate the z-score and p-value. Based on a significance level of 0.05, do you reject or fail to reject the null hypothesis?"
   ]
  },
  {
   "cell_type": "markdown",
   "id": "15da232f",
   "metadata": {},
   "source": [
    "To calculate the z-score:\n",
    "\n",
    "𝑧\n",
    "=\n",
    "𝑋\n",
    "ˉ\n",
    "−\n",
    "𝜇\n",
    "𝜎\n",
    "/\n",
    "𝑛\n",
    "z= \n",
    "σ/ \n",
    "n\n",
    "​\n",
    " \n",
    "X\n",
    "ˉ\n",
    " −μ\n",
    "​\n",
    " \n",
    "where:\n",
    "\n",
    "𝑋\n",
    "ˉ\n",
    "=\n",
    "105\n",
    "X\n",
    "ˉ\n",
    " =105,\n",
    "𝜇\n",
    "=\n",
    "100\n",
    "μ=100,\n",
    "𝜎\n",
    "=\n",
    "15\n",
    "σ=15, and\n",
    "𝑛\n",
    "=\n",
    "25\n",
    "n=25.\n",
    "Using Python:"
   ]
  },
  {
   "cell_type": "code",
   "execution_count": 3,
   "id": "4300a8fa",
   "metadata": {},
   "outputs": [
    {
     "data": {
      "text/plain": [
       "(1.6666666666666667, 0.09558070454562939, 'Fail to reject the null hypothesis')"
      ]
     },
     "execution_count": 3,
     "metadata": {},
     "output_type": "execute_result"
    }
   ],
   "source": [
    "import scipy.stats as stats\n",
    "\n",
    "# Given data\n",
    "sample_mean = 105\n",
    "population_mean = 100\n",
    "std_dev = 15\n",
    "sample_size = 25\n",
    "\n",
    "# Calculate the z-score\n",
    "z_score = (sample_mean - population_mean) / (std_dev / (sample_size ** 0.5))\n",
    "\n",
    "# Calculate the p-value for two-tailed test\n",
    "p_value = 2 * (1 - stats.norm.cdf(abs(z_score)))\n",
    "\n",
    "# Determine hypothesis test result\n",
    "significance_level = 0.05\n",
    "result = \"Reject the null hypothesis\" if p_value < significance_level else \"Fail to reject the null hypothesis\"\n",
    "\n",
    "z_score, p_value, result\n"
   ]
  },
  {
   "cell_type": "markdown",
   "id": "02003a5b",
   "metadata": {},
   "source": [
    "# Question 10: Simulate a binomial distribution with 10 trials and a probability of success of 0.6 using Python. Generate 1,000 samples and plot the distribution. What is the expected mean and variance?"
   ]
  },
  {
   "cell_type": "markdown",
   "id": "f4e87383",
   "metadata": {},
   "source": [
    "The expected mean and variance of a binomial distribution are:\n",
    "\n",
    "Mean = \n",
    "𝑛\n",
    "×\n",
    "𝑝\n",
    "n×p\n",
    "Variance = \n",
    "𝑛\n",
    "×\n",
    "𝑝\n",
    "×\n",
    "(\n",
    "1\n",
    "−\n",
    "𝑝\n",
    ")\n",
    "n×p×(1−p)\n",
    "Using Python:"
   ]
  },
  {
   "cell_type": "code",
   "execution_count": 4,
   "id": "678fbf13",
   "metadata": {},
   "outputs": [
    {
     "data": {
      "image/png": "[encoded data removed]",
      "text/plain": [
       "<Figure size 640x480 with 1 Axes>"
      ]
     },
     "metadata": {},
     "output_type": "display_data"
    },
    {
     "data": {
      "text/plain": [
       "(5.912, 2.4962560000000003)"
      ]
     },
     "execution_count": 4,
     "metadata": {},
     "output_type": "execute_result"
    }
   ],
   "source": [
    "import numpy as np\n",
    "import matplotlib.pyplot as plt\n",
    "\n",
    "# Parameters\n",
    "n_trials = 10\n",
    "p_success = 0.6\n",
    "samples = 1000\n",
    "\n",
    "# Generate binomial data\n",
    "data = np.random.binomial(n_trials, p_success, samples)\n",
    "\n",
    "# Plot the distribution\n",
    "plt.hist(data, bins=range(n_trials+2), align='left', color='skyblue', edgecolor='black')\n",
    "plt.title('Binomial Distribution (n=10, p=0.6)')\n",
    "plt.xlabel('Number of Successes')\n",
    "plt.ylabel('Frequency')\n",
    "plt.show()\n",
    "\n",
    "# Calculate mean and variance\n",
    "mean = np.mean(data)\n",
    "variance = np.var(data)\n",
    "\n",
    "mean, variance\n"
   ]
  }
 ],
 "metadata": {
  "kernelspec": {
   "display_name": "Python 3 (ipykernel)",
   "language": "python",
   "name": "python3"
  },
  "language_info": {
   "codemirror_mode": {
    "name": "ipython",
    "version": 3
   },
   "file_extension": ".py",
   "mimetype": "text/x-python",
   "name": "python",
   "nbconvert_exporter": "python",
   "pygments_lexer": "ipython3",
   "version": "3.11.3"
  }
 },
 "nbformat": 4,
 "nbformat_minor": 5
}
